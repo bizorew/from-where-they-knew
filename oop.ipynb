import uuid
from pyvis.network import Network
from IPython.core.display import display, HTML

class Author:
    def __init__(self, id, name, alternative_names):
        self.id = id
        self.name = name
        self.alternative_names = alternative_names

class Publisher:
    def __init__(self, id, name, alternative_names):
        self.id = id
        self.name = name
        self.alternative_names = alternative_names

class Chapter:
    def __init__(self, id, reference, title, chapter_numbers, referenced_in=""):
        self.id = id
        self.reference = reference
        self.title = title
        self.chapter_numbers = chapter_numbers
        self.referenced_in = referenced_in

class Book:
    def __init__(self, id, reference, editors, authors, title, alternative_titles, publisher, release_year, isbn, chapters=[], referenced_in=""):
        self.id = id
        self.reference = reference
        self.editors = editors
        self.authors = authors
        self.title = title
        self.alternative_titles = alternative_titles
        self.publisher = publisher
        self.release_year = release_year
        self.isbn = isbn
        self.chapters = chapters
        self.referenced_in = referenced_in

class Article:
    def __init__(self, id, reference, authors, title, alternative_titles, publisher, journal, release_year, links={}):
        self.id = id
        self.reference = reference
        self.authors = authors
        self.title = title
        self.alternative_titles = alternative_titles
        self.publisher = publisher
        self.journal = journal
        self.release_year = release_year
        self.links = links

class NetworkGraph:
    def __init__(self, data):
        self.data = data
        self.net = Network(notebook=True, cdn_resources='remote')
        self.author_dict = {}
        self.author_name_to_id = {}
        self.publisher_dict = {}
        self.publisher_name_to_id = {}
        self.book_dict = {}
        self.article_dict = {}
        self.chapter_dict = {}
        self.reference_to_id = {}

    def add_author_nodes(self):
        for item in self.data:
            if 'Author' in item:
                author = item['Author']
                author_obj = Author(author['id'], author['Name'], author['Alternative names'])
                self.author_dict[author_obj.id] = author_obj
                self.author_name_to_id[author_obj.name] = author_obj.id
                for alt_name in author_obj.alternative_names:
                    self.author_name_to_id[alt_name] = author_obj.id
                self.net.add_node(author_obj.id, label=self.format_name(author_obj.name), title=self.format_title(author_obj.alternative_names), color='orange', shape='box')

    def add_publisher_nodes(self):
        for item in self.data:
            if 'Publisher' in item:
                publisher = item['Publisher']
                publisher_obj = Publisher(publisher['id'], publisher['Name'], publisher['Alternative names'])
                self.publisher_dict[publisher_obj.id] = publisher_obj
                self.publisher_name_to_id[publisher_obj.name] = publisher_obj.id
                for alt_name in publisher_obj.alternative_names:
                    self.publisher_name_to_id[alt_name] = publisher_obj.id
                self.net.add_node(publisher_obj.id, label=publisher_obj.name, title=self.format_title(publisher_obj.alternative_names), color='lightgray', shape='box')

    def add_book_and_article_nodes(self):
        for item in self.data:
            if 'Book' in item:
                book = item['Book']
                chapters = [Chapter(ch['id'], ch['Reference'], ch['Title'], ch['Chapter Numbers'], ch['ReferencedIn']) for ch in book.get('Chapters', [])]
                book_obj = Book(book['id'], book['Reference'], book['Editors'], book['Authors'], book['Title'], book['Alternative Titles'], book['Publisher'], book['Release Year'], book['ISBN'], chapters, book.get('ReferencedIn', ""))
                self.book_dict[book_obj.id] = book_obj
                self.reference_to_id[book_obj.reference] = book_obj.id
                self.net.add_node(book_obj.id, label=book_obj.title, title=self.format_book_title(book_obj), color='lightgreen', shape='box')
                self.add_links(book_obj)

            elif 'Article' in item:
                article = item['Article']
                article_obj = Article(article['id'], article['Reference'], article['Authors'], article['Title'], article['Alternative Titles'], article['Publisher'], article['Journal'], article['Release Year'], article.get('links', {}))
                self.article_dict[article_obj.id] = article_obj
                self.reference_to_id[article_obj.reference] = article_obj.id
                self.net.add_node(article_obj.id, label=article_obj.title, title=self.format_article_title(article_obj), color='lightblue', shape='box')
                self.add_links(article_obj)

    def add_links(self, obj):
        if isinstance(obj, Book) or isinstance(obj, Article):
            links = obj.links
            if 'wiki' in links:
                wiki_link = links['wiki']
                wiki_id = str(uuid.uuid4())
                self.net.add_node(wiki_id, label="Wiki Page", title=wiki_link, shape='box', color='lightblue', url=wiki_link, target='_blank')
                self.net.add_edge(obj.id, wiki_id, label='Link', color='blue')
            if 'fulltext' in links:
                fulltext_links = links['fulltext']
                for ft_link in fulltext_links:
                    ft_id = str(uuid.uuid4())
                    self.net.add_node(ft_id, label="Full Text", title=ft_link, shape='box', color='lightblue', url=ft_link, target='_blank')
                    self.net.add_edge(obj.id, ft_id, label='Link', color='blue')

    def add_edges(self):
        for book_id, book in self.book_dict.items():
            for author_name in book.authors:
                author_id = self.author_name_to_id.get(author_name)
                if author_id:
                    self.net.add_edge(book_id, author_id, label='Author', color='black')
                else:
                    print(f"Author '{author_name}' not found in author nodes.")
            publisher_id = self.publisher_name_to_id.get(book.publisher)
            if publisher_id:
                self.net.add_edge(book_id, publisher_id, label='Published by', color='gray')
            else:
                print(f"Publisher '{book.publisher}' not found in publisher nodes.")
            for chapter in book.chapters:
                self.net.add_node(chapter.id, label=chapter.title, title=f"Chapters: {', '.join(chapter.chapter_numbers)}", color='yellow', shape='box')
                self.net.add_edge(book_id, chapter.id, label='Contains Chapter', color='purple')
                self.chapter_dict[chapter.id] = chapter
                self.reference_to_id[chapter.reference] = chapter.id

        for article_id, article in self.article_dict.items():
            for author_name in article.authors:
                author_id = self.author_name_to_id.get(author_name)
                if author_id:
                    self.net.add_edge(article_id, author_id, label='Author', color='black')
                else:
                    print(f"Author '{author_name}' not found in author nodes.")
            publisher_id = self.publisher_name_to_id.get(article.publisher)
            if publisher_id:
                self.net.add_edge(article_id, publisher_id, label='Published by', color='gray')
            else:
                print(f"Publisher '{article.publisher}' not found in publisher nodes.")

    def add_referenced_in_edges(self):
        for book_id, book in self.book_dict.items():
            if book.referenced_in:
                target_id = self.reference_to_id.get(book.referenced_in)
                if target_id:
                    self.net.add_edge(book_id, target_id, label='Referenced In', color='red')
                else:
                    print(f"ReferencedIn target '{book.referenced_in}' not found in reference mapping.")

        for article_id, article in self.article_dict.items():
            if article.referenced_in:
                target_id = self.reference_to_id.get(article.referenced_in)
                if target_id:
                    self.net.add_edge(article_id, target_id, label='Referenced In', color='red')
                else:
                    print(f"ReferencedIn target '{article.referenced_in}' not found in reference mapping.")

        for chapter_id, chapter in self.chapter_dict.items():
            if chapter.referenced_in:
                target_id = self.reference_to_id.get(chapter.referenced_in)
                if target_id:
                    self.net.add_edge(chapter_id, target_id, label='Referenced In', color='red')
                else:
                    print(f"ReferencedIn target '{chapter.referenced_in}' not found in reference mapping.")

    def format_name(self, name):
        name_parts = name.split()
        if len(name_parts) > 1:
            return f"{name_parts[0]}\n{' '.join(name_parts[1:])}"
        return name

    def format_title(self, alternative_names):
        return f"Alternative names: {', '.join(alternative_names)}" if alternative_names else "No alternative names"

    def format_book_title(self, book):
        return f"Authors: {', '.join(book.authors)}\nPublisher: {book.publisher}\nRelease Year: {book.release_year}\nAlternative titles: {', '.join(book.alternative_titles)}" if book.alternative_titles else "No alternative titles"

    def format_article_title(self, article):
        return f"Authors: {', '.join(article.authors)}\nJournal: {article.journal}\nPublisher: {article.publisher}\nRelease Year: {article.release_year}\nAlternative titles: {', '.join(article.alternative_titles)}" if article.alternative_titles else "No alternative titles"

    def display_network(self):
        self.net.set_options("""
        var options = {
          "physics": {
            "barnesHut": {
              "gravitationalConstant": -2000,
              "springLength": 95
            },
            "minVelocity": 0.75
          },
          "nodes": {
            "shape": "dot"
          },
          "interaction": {
            "navigationButtons": true,
            "keyboard": true
          }
        }
        """)
        self.net.show('reference_graph.html')
        display(HTML('reference_graph.html'))

    def build_network(self):
        self.add_author_nodes()
        self.add_publisher_nodes()
        self.add_book_and_article_nodes()
        self.add_edges()
        self.add_referenced_in_edges()
        self.display_network()

# Create and build the network graph
network_graph = NetworkGraph(data)
network_graph.build_network()
