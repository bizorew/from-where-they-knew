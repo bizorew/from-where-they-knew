# Create a PyVis network
net = Network(notebook=True, cdn_resources='remote')

# Build dictionaries for easy lookup
author_dict = {}
author_name_to_id = {}
book_dict = {}
article_dict = {}
chapter_dict = {}
reference_to_id = {}

# Add author nodes
for item in data:
    if 'Author' in item:
        author = item['Author']
        author_id = author['id']
        author_name = author['Name']
        alternative_names = author['Alternative names']
        title = f"Alternative names: {', '.join(alternative_names)}" if alternative_names else "No alternative names"
        # Split the author name into two lines
        name_parts = author_name.split()
        if len(name_parts) > 1:
            author_name = f"{name_parts[0]}\n{' '.join(name_parts[1:])}"
        net.add_node(author_id, label=author_name, title=title, color='orange', shape='box')
        # Store in dictionary
        author_dict[author_id] = author
        # Build reverse lookup
        author_name_to_id[author['Name']] = author_id
        for alt_name in alternative_names:
            author_name_to_id[alt_name] = author_id

# Add publisher nodes
publisher_dict = {}
publisher_name_to_id = {}
for item in data:
    if 'Publisher' in item:
        publisher = item['Publisher']
        publisher_id = publisher['id']
        publisher_name = publisher['Name']
        alternative_names = publisher['Alternative names']
        title = f"Alternative names: {', '.join(alternative_names)}" if alternative_names else "No alternative names"
        net.add_node(publisher_id, label=publisher_name, title=title, color='lightgray', shape="box")
        publisher_dict[publisher_id] = publisher
        publisher_name_to_id[publisher_name] = publisher_id
        for alt_name in alternative_names:
            publisher_name_to_id[alt_name] = publisher_id

# Add book and article nodes, and build reference mapping
for item in data:
    if 'Book' in item:
        book = item['Book']
        book_id = book['id']
        editors = book['Editors']
        authors = book['Authors']
        title = book['Title']
        alternative_titles = book['Alternative Titles']
        publisher = book['Publisher']
        release_year = book['Release Year']
        title_title = f"Alternative titles: {', '.join(alternative_titles)}" if alternative_titles else "No alternative titles"
        net.add_node(book_id, label=title, title=f"Authors: {', '.join(authors)}\nPublisher: {publisher}\nRelease Year: {release_year}\n{title_title}", color='lightgreen', shape='box')
        # Store in dictionary
        book_dict[book_id] = book
        # Build mapping from Reference to IDs
        reference_to_id[book['Reference']] = book_id

        # Process links in the book
        if 'links' in book:
            links = book['links']
            # Process wiki link
            if 'wiki' in links:
                wiki_link = links['wiki']
                wiki_id = str(uuid.uuid4())
                net.add_node(wiki_id, label="Wiki Page", title=wiki_link, shape='box', color='lightblue', url=wiki_link, target='_blank')
                net.add_edge(book_id, wiki_id, label='Link', color='blue')
            # Process fulltext links
            if 'fulltext' in links:
                fulltext_links = links['fulltext']
                for ft_link in fulltext_links:
                    ft_id = str(uuid.uuid4())
                    net.add_node(ft_id, label="Full Text", title=ft_link, shape='box', color='lightblue', url=ft_link, target='_blank')
                    net.add_edge(book_id, ft_id, label='Link', color='blue')

    elif 'Article' in item:
        article = item['Article']
        article_id = article['id']
        authors = article['Authors']
        title = article['Title']
        alternative_titles = article['Alternative Titles']
        publisher = article['Publisher']
        journal = article['Journal']
        release_year = article['Release Year']
        title_title = f"Alternative titles: {', '.join(alternative_titles)}" if alternative_titles else "No alternative titles"
        net.add_node(article_id, label=title, title=f"Authors: {', '.join(authors)}\nJournal: {journal}\nPublisher: {publisher}\nRelease Year: {release_year}\n{title_title}", color='lightblue', shape='box')
        # Store in dictionary
        article_dict[article_id] = article
        # Build mapping from Reference to IDs
        reference_to_id[article['Reference']] = article_id

        # Process links in the article
        if 'links' in article:
            links = article['links']
            # Process wiki link
            if 'wiki' in links:
                wiki_link = links['wiki']
                wiki_id = str(uuid.uuid4())
                net.add_node(wiki_id, label="Wiki Page", title=wiki_link, shape='box', color='lightblue', url=wiki_link, target='_blank')
                net.add_edge(article_id, wiki_id, label='Link', color='blue')
            # Process fulltext links
            if 'fulltext' in links:
                fulltext_links = links['fulltext']
                for ft_link in fulltext_links:
                    ft_id = str(uuid.uuid4())
                    net.add_node(ft_id, label="Full Text", title=ft_link, shape='box', color='lightblue', url=ft_link, target='_blank')
                    net.add_edge(article_id, ft_id, label='Link', color='blue')

# Add edges between Books/Articles and Authors
# For Books
for book_id, book in book_dict.items():
    authors = book['Authors']
    for author_name in authors:
        # Try to find the author by name or alternative names
        author_id = author_name_to_id.get(author_name)
        if not author_id:
            # If not found, attempt to match ignoring case or accents
            for name, a_id in author_name_to_id.items():
                if name.lower() == author_name.lower():
                    author_id = a_id
                    break
        if author_id:
            net.add_edge(book_id, author_id, label='Author', color='black')
        else:
            print(f"Author '{author_name}' not found in author nodes.")
    # Link book to publisher
    publisher_name = book['Publisher']
    publisher_id = publisher_name_to_id.get(publisher_name)
    if publisher_id:
        net.add_edge(book_id, publisher_id, label='Published by', color='gray')
    else:
        print(f"Publisher '{publisher_name}' not found in publisher nodes.")

# For Articles
for article_id, article in article_dict.items():
    authors = article['Authors']
    for author_name in authors:
        # Try to find the author by name or alternative names
        author_id = author_name_to_id.get(author_name)
        if not author_id:
            # If not found, attempt to match ignoring case or accents
            for name, a_id in author_name_to_id.items():
                if name.lower() == author_name.lower():
                    author_id = a_id
                    break
        if author_id:
            net.add_edge(article_id, author_id, label='Author', color='black')
        else:
            print(f"Author '{author_name}' not found in author nodes.")
    # Link article to publisher
    publisher_name = article['Publisher']
    publisher_id = publisher_name_to_id.get(publisher_name)
    if publisher_id:
        net.add_edge(article_id, publisher_id, label='Published by', color='gray')
    else:
        print(f"Publisher '{publisher_name}' not found in publisher nodes.")

# Process chapters within books
for book_id, book in book_dict.items():
    # Now process chapters if any
    if 'Chapters' in book:
        chapters = book['Chapters']
        for chapter in chapters:
            chapter_id = chapter['id']
            chapter_title = chapter['Title']
            chapter_numbers = chapter['Chapter Numbers']
            net.add_node(chapter_id, label=chapter_title, title=f"Chapters: {', '.join(chapter_numbers)}", color='yellow', shape="box")
            # Add edge from book to chapter
            net.add_edge(book_id, chapter_id, label='Contains Chapter', color='purple')

            # Store chapter in a dictionary
            chapter_dict[chapter_id] = chapter
            # Build mapping from Reference to IDs for chapters
            reference_to_id[chapter['Reference']] = chapter_id

            # Process links in the chapter if any (assuming chapters might have links)
            if 'links' in chapter:
                links = chapter['links']
                # Process wiki link
                if 'wiki' in links:
                    wiki_link = links['wiki']
                    wiki_id = str(uuid.uuid4())                    
                    net.add_node(wiki_id, label="Wiki Page", title=wiki_link, shape='box', color='lightblue', url=wiki_link, target='_blank')
                    net.add_edge(chapter_id, wiki_id, label='Link', color='blue')
                # Process fulltext links
                if 'fulltext' in links:
                    fulltext_links = links['fulltext']
                    for ft_link in fulltext_links:
                        ft_id = str(uuid.uuid4())
                        net.add_node(ft_id, label="Full Text", title=ft_link, shape='box', color='lightblue', url=ft_link, target='_blank')
                        net.add_edge(chapter_id, ft_id, label='Link', color='blue')

# Now process 'ReferencedIn' relationships for books, articles, and chapters
for book_id, book in book_dict.items():
    if 'ReferencedIn' in book:
        referenced_in_ref = book['ReferencedIn']
        if referenced_in_ref in reference_to_id:
            target_id = reference_to_id[referenced_in_ref]
            net.add_edge(book_id, target_id, label='Referenced In', color='red')
        else:
            print(f"ReferencedIn target '{referenced_in_ref}' not found in reference mapping.")

for article_id, article in article_dict.items():
    if 'ReferencedIn' in article:
        referenced_in_ref = article['ReferencedIn']
        if referenced_in_ref in reference_to_id:
            target_id = reference_to_id[referenced_in_ref]
            net.add_edge(article_id, target_id, label='Referenced In', color='red')
        else:
            print(f"ReferencedIn target '{referenced_in_ref}' not found in reference mapping.")

for chapter_id, chapter in chapter_dict.items():
    if 'ReferencedIn' in chapter:
        referenced_in_ref = chapter['ReferencedIn']
        if referenced_in_ref in reference_to_id:
            target_id = reference_to_id[referenced_in_ref]
            net.add_edge(chapter_id, target_id, label='Referenced In', color='red')
        else:
            print(f"ReferencedIn target '{referenced_in_ref}' not found in reference mapping.")

# Save and display the network
net.set_options("""
var options = {
  "physics": {
    "barnesHut": {
      "gravitationalConstant": -2000,
      "springLength": 95
    },
    "minVelocity": 0.75
  },
  "nodes": {
    "shape": "dot"
  },
  "interaction": {
    "hover": true,
    "navigationButtons": true,
    "keyboard": true,
    "dragNodes": true,
    "dragView": true
  }
}
""")

# Display the network
net.show('reference_graph.html')
display(HTML('reference_graph.html'))
